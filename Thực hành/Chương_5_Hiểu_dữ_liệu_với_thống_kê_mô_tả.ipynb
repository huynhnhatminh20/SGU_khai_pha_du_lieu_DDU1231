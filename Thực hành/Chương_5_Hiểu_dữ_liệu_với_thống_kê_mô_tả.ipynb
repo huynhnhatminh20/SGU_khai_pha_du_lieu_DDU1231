{
 "cells": [
  {
   "cell_type": "markdown",
   "id": "34f9289f-50b5-471f-a6a8-85ecb6eaf4cc",
   "metadata": {},
   "source": [
    "# Hiểu dữ liệu với thống kê mô tả"
   ]
  },
  {
   "cell_type": "markdown",
   "id": "12eacd46-101d-4f73-9079-b39e64b50d88",
   "metadata": {},
   "source": [
    "## Xem trước dữ liệu"
   ]
  },
  {
   "cell_type": "code",
   "execution_count": 6,
   "id": "e071c32b-49f9-4c9c-b5e3-76e5ec397a0b",
   "metadata": {},
   "outputs": [],
   "source": [
    "\n",
    "from pandas import read_csv\n",
    "filename = r\"C:\\Users\\ASUS\\Documents\\SGU_khai_pha_du_lieu_DDU1231\\Thực hành\\pima-indians-diabetes.csv\"\n",
    "names = ['preg', 'plas', 'pres', 'skin', 'test', 'mass', 'pedi', 'age', 'class']\n",
    "data = read_csv(filename, names=names)\n",
    "peek = data.head(20)"
   ]
  },
  {
   "cell_type": "markdown",
   "id": "b86793a0-b4cd-44c6-b2cc-2b25162ac018",
   "metadata": {},
   "source": [
    "## Dimensions of Your Data"
   ]
  },
  {
   "cell_type": "code",
   "execution_count": 9,
   "id": "d9500b84-021d-40c9-9454-0ab303be1219",
   "metadata": {},
   "outputs": [
    {
     "name": "stdout",
     "output_type": "stream",
     "text": [
      "(769, 9)\n"
     ]
    }
   ],
   "source": [
    "# Dimensions of your data\n",
    "from pandas import read_csv\n",
    "filename = r\"C:\\Users\\ASUS\\Documents\\SGU_khai_pha_du_lieu_DDU1231\\Thực hành\\pima-indians-diabetes.csv\"\n",
    "names = ['preg', 'plas', 'pres', 'skin', 'test', 'mass', 'pedi', 'age', 'class']\n",
    "data = read_csv(filename, names=names)\n",
    "shape = data.shape\n",
    "print(shape)"
   ]
  },
  {
   "cell_type": "markdown",
   "id": "039f86b1-6bc8-42ad-b1e5-5940f297d629",
   "metadata": {},
   "source": [
    "## Kiểu dữ liệu cho mỗi thuộc tính"
   ]
  },
  {
   "cell_type": "code",
   "execution_count": null,
   "id": "2b279e5f-8460-4dfc-a30b-9a0d4d7a2415",
   "metadata": {},
   "outputs": [],
   "source": [
    "# Data Types for Each Attribute\n",
    "from pandas import read_csv\n",
    "filename = r\"C:\\Users\\ASUS\\Documents\\SGU_khai_pha_du_lieu_DDU1231\\Thực hành\\pima-indians-diabetes.csv\"\n",
    "names = ['preg', 'plas', 'pres', 'skin', 'test', 'mass', 'pedi', 'age', 'class']\n",
    "data = read_csv(filename, names=names)\n",
    "types = data.dtypes\n",
    "print(types)"
   ]
  },
  {
   "cell_type": "markdown",
   "id": "8b8a562b-f208-4a9a-99af-ab8c41dd6482",
   "metadata": {},
   "source": [
    "## Thống kê mô tả"
   ]
  },
  {
   "cell_type": "code",
   "execution_count": null,
   "id": "eda249f2-a6b7-474a-b62b-6eda7829d336",
   "metadata": {},
   "outputs": [],
   "source": [
    "# Statistical Summary\n",
    "from pandas import read_csv\n",
    "from pandas import set_option\n",
    "filename = r\"C:\\Users\\ASUS\\Documents\\SGU_khai_pha_du_lieu_DDU1231\\Thực hành\\pima-indians-diabetes.csv\"\n",
    "names = ['preg', 'plas', 'pres', 'skin', 'test', 'mass', 'pedi', 'age', 'class']\n",
    "data = read_csv(filename, names=names)\n",
    "set_option('display.width', 100)\n",
    "set_option('precision', 3)\n",
    "description = data.describe()\n",
    "print(description)"
   ]
  },
  {
   "cell_type": "markdown",
   "id": "1ada4652-b377-4559-b3ed-2cb12b153410",
   "metadata": {},
   "source": [
    "## Phân phối lớp"
   ]
  },
  {
   "cell_type": "code",
   "execution_count": null,
   "id": "1ab513a8-09c5-4b99-90aa-346e85c487dc",
   "metadata": {},
   "outputs": [],
   "source": [
    "# Class Distribution\n",
    "from pandas import read_csv\n",
    "filename = r\"C:\\Users\\ASUS\\Documents\\SGU_khai_pha_du_lieu_DDU1231\\Thực hành\\pima-indians-diabetes.csv\"\n",
    "names = ['preg', 'plas', 'pres', 'skin', 'test', 'mass', 'pedi', 'age', 'class']\n",
    "data = read_csv(filename, names=names)\n",
    "\n",
    "5.6. Correlations Between Attributes 35\n",
    "class_counts = data.groupby('class').size()\n",
    "print(class_counts)"
   ]
  },
  {
   "cell_type": "markdown",
   "id": "1f71b20c-a3da-4abc-ad08-8b5f331c4113",
   "metadata": {},
   "source": [
    "## Sự tương quan giữa các thuộc tính"
   ]
  },
  {
   "cell_type": "code",
   "execution_count": null,
   "id": "62027972-4ecc-41f5-aaaa-00a9e049b8d8",
   "metadata": {},
   "outputs": [],
   "source": [
    "# Pairwise Pearson correlations\n",
    "from pandas import read_csv\n",
    "from pandas import set_option\n",
    "filename = r\"C:\\Users\\ASUS\\Documents\\SGU_khai_pha_du_lieu_DDU1231\\Thực hành\\pima-indians-diabetes.csv\"\n",
    "names = ['preg', 'plas', 'pres', 'skin', 'test', 'mass', 'pedi', 'age', 'class']\n",
    "data = read_csv(filename, names=names)\n",
    "set_option('display.width', 100)\n",
    "set_option('precision', 3)\n",
    "correlations = data.corr(method='pearson')\n",
    "print(correlations)"
   ]
  },
  {
   "cell_type": "markdown",
   "id": "c1a10d8a-243b-4938-8d71-abbe28608cf7",
   "metadata": {},
   "source": [
    "## Sự tương quan giữa các thuộc tính"
   ]
  },
  {
   "cell_type": "code",
   "execution_count": null,
   "id": "a89a0d8c-250c-4a3d-9971-76c81efac07d",
   "metadata": {},
   "outputs": [],
   "source": [
    "# Skew for each attribute\n",
    "from pandas import read_csv\n",
    "filename = r\"C:\\Users\\ASUS\\Documents\\SGU_khai_pha_du_lieu_DDU1231\\Thực hành\\pima-indians-diabetes.csv\"\n",
    "names = ['preg', 'plas', 'pres', 'skin', 'test', 'mass', 'pedi', 'age', 'class']\n",
    "data = read_csv(filename, names=names)\n",
    "skew = data.skew()\n",
    "print(skew)"
   ]
  }
 ],
 "metadata": {
  "kernelspec": {
   "display_name": "Python 3 (ipykernel)",
   "language": "python",
   "name": "python3"
  },
  "language_info": {
   "codemirror_mode": {
    "name": "ipython",
    "version": 3
   },
   "file_extension": ".py",
   "mimetype": "text/x-python",
   "name": "python",
   "nbconvert_exporter": "python",
   "pygments_lexer": "ipython3",
   "version": "3.12.4"
  }
 },
 "nbformat": 4,
 "nbformat_minor": 5
}

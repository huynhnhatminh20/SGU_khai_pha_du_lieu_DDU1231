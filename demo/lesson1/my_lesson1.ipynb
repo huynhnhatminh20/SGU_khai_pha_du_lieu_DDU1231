{
 "cells": [
  {
   "cell_type": "code",
   "execution_count": 1,
   "id": "1b1e7269-24c9-424a-83b9-d26f58c75954",
   "metadata": {},
   "outputs": [],
   "source": [
    "# “Thuc hanh khai pha du lieu Buoi 1”\n",
    "## “Noi dung thuc hanh”"
   ]
  },
  {
   "cell_type": "code",
   "execution_count": 2,
   "id": "13a9ab33-b119-449d-82fa-31e3a69ceee3",
   "metadata": {},
   "outputs": [],
   "source": [
    "### In chu ra man hinh"
   ]
  },
  {
   "cell_type": "code",
   "execution_count": 3,
   "id": "952359cd-08a4-4e98-a737-a326bd438fcf",
   "metadata": {},
   "outputs": [
    {
     "name": "stdout",
     "output_type": "stream",
     "text": [
      "Hello, Python World!\n"
     ]
    }
   ],
   "source": [
    "# lenh 1 - xuat chu\n",
    "print('Hello, Python World!')"
   ]
  },
  {
   "cell_type": "code",
   "execution_count": 4,
   "id": "27273e42-2a0c-4e69-8618-f7eac2ea0411",
   "metadata": {},
   "outputs": [],
   "source": [
    "# Ket Thuc"
   ]
  },
  {
   "cell_type": "code",
   "execution_count": 5,
   "id": "213a060c-12f7-4d9b-bfe3-f8e47f8eb26a",
   "metadata": {},
   "outputs": [
    {
     "name": "stdout",
     "output_type": "stream",
     "text": [
      "Calculator Basic\n"
     ]
    },
    {
     "name": "stdin",
     "output_type": "stream",
     "text": [
      "Moi ban nhap so a:  3\n",
      "Moi ban nhap so a:  4\n"
     ]
    },
    {
     "name": "stdout",
     "output_type": "stream",
     "text": [
      "c = 3 + 4 = 7\n"
     ]
    }
   ],
   "source": [
    "%run ex1_calc.py"
   ]
  },
  {
   "cell_type": "code",
   "execution_count": 7,
   "id": "30c84145-6d5c-42f7-aabb-44c2f3abfd47",
   "metadata": {},
   "outputs": [
    {
     "name": "stdin",
     "output_type": "stream",
     "text": [
      "Nhập bán kính r:  5\n"
     ]
    },
    {
     "name": "stdout",
     "output_type": "stream",
     "text": [
      "Bán kính: 5.0\n",
      "Chu vi hình tròn = 31.41592653589793\n",
      "Diện tích hình tròn = 78.53981633974483\n"
     ]
    }
   ],
   "source": [
    "%run ex3_circle.py"
   ]
  },
  {
   "cell_type": "code",
   "execution_count": null,
   "id": "687ac8cb-da39-4f1b-9663-11a008886ff9",
   "metadata": {},
   "outputs": [],
   "source": []
  }
 ],
 "metadata": {
  "kernelspec": {
   "display_name": "Python 3 (ipykernel)",
   "language": "python",
   "name": "python3"
  },
  "language_info": {
   "codemirror_mode": {
    "name": "ipython",
    "version": 3
   },
   "file_extension": ".py",
   "mimetype": "text/x-python",
   "name": "python",
   "nbconvert_exporter": "python",
   "pygments_lexer": "ipython3",
   "version": "3.12.4"
  }
 },
 "nbformat": 4,
 "nbformat_minor": 5
}

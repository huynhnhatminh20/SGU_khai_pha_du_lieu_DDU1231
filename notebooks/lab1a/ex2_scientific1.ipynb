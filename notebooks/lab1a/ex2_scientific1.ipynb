{
 "cells": [
  {
   "cell_type": "markdown",
   "id": "04213042-9f03-4a70-80c8-2ecc6212099c",
   "metadata": {},
   "source": [
    "# ex2_scientific1"
   ]
  },
  {
   "cell_type": "markdown",
   "id": "593cd150-35cd-4674-b692-0d51e3d05f49",
   "metadata": {},
   "source": []
  }
 ],
 "metadata": {
  "kernelspec": {
   "display_name": "Python 3 (ipykernel)",
   "language": "python",
   "name": "python3"
  },
  "language_info": {
   "codemirror_mode": {
    "name": "ipython",
    "version": 3
   },
   "file_extension": ".py",
   "mimetype": "text/x-python",
   "name": "python",
   "nbconvert_exporter": "python",
   "pygments_lexer": "ipython3",
   "version": "3.12.4"
  }
 },
 "nbformat": 4,
 "nbformat_minor": 5
}

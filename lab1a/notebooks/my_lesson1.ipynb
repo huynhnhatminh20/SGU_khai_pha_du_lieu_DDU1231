{
 "cells": [
  {
   "cell_type": "code",
   "execution_count": 1,
   "id": "1b1e7269-24c9-424a-83b9-d26f58c75954",
   "metadata": {},
   "outputs": [],
   "source": [
    "# “Thuc hanh khai pha du lieu Buoi 1”\n",
    "## “Noi dung thuc hanh”"
   ]
  },
  {
   "cell_type": "code",
   "execution_count": 2,
   "id": "13a9ab33-b119-449d-82fa-31e3a69ceee3",
   "metadata": {},
   "outputs": [],
   "source": [
    "### In chu ra man hinh"
   ]
  },
  {
   "cell_type": "code",
   "execution_count": 5,
   "id": "952359cd-08a4-4e98-a737-a326bd438fcf",
   "metadata": {},
   "outputs": [
    {
     "name": "stdout",
     "output_type": "stream",
     "text": [
      "Hello, Python World!\n"
     ]
    }
   ],
   "source": [
    "# lenh 1 - xuat chu\n",
    "print('Hello, Python World!')"
   ]
  },
  {
   "cell_type": "code",
   "execution_count": 6,
   "id": "27273e42-2a0c-4e69-8618-f7eac2ea0411",
   "metadata": {},
   "outputs": [],
   "source": [
    "# Ket Thuc"
   ]
  }
 ],
 "metadata": {
  "kernelspec": {
   "display_name": "Python 3 (ipykernel)",
   "language": "python",
   "name": "python3"
  },
  "language_info": {
   "codemirror_mode": {
    "name": "ipython",
    "version": 3
   },
   "file_extension": ".py",
   "mimetype": "text/x-python",
   "name": "python",
   "nbconvert_exporter": "python",
   "pygments_lexer": "ipython3",
   "version": "3.12.4"
  }
 },
 "nbformat": 4,
 "nbformat_minor": 5
}

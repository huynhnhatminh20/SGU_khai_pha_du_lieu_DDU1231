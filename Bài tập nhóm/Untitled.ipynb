{
 "cells": [
  {
   "cell_type": "code",
   "execution_count": 4,
   "id": "5934238c-ffb8-4cff-8fac-3d4b3c5a016b",
   "metadata": {},
   "outputs": [],
   "source": [
    "import pandas as pd\n",
    "marketing_data = pd.read_csv(r\"C:\\Users\\ASUS\\Documents\\SGU_khai_pha_du_lieu_DDU1231\\Bài tập nhóm\\marketing_campaign.csv\")\n"
   ]
  },
  {
   "cell_type": "code",
   "execution_count": null,
   "id": "c005f394-d765-40df-acad-df4373111d95",
   "metadata": {},
   "outputs": [],
   "source": [
    "marketing_data = marketing_data[['ID','Year_Birth', 'Education',\n",
    "'Marital_Status','Income','Kidhome', 'Teenhome',\n",
    "'Dt_ Customer', 'Recency','NumStorePurchases',\n",
    "'NumWebVisitsMonth']]"
   ]
  }
 ],
 "metadata": {
  "kernelspec": {
   "display_name": "Python 3 (ipykernel)",
   "language": "python",
   "name": "python3"
  },
  "language_info": {
   "codemirror_mode": {
    "name": "ipython",
    "version": 3
   },
   "file_extension": ".py",
   "mimetype": "text/x-python",
   "name": "python",
   "nbconvert_exporter": "python",
   "pygments_lexer": "ipython3",
   "version": "3.12.4"
  }
 },
 "nbformat": 4,
 "nbformat_minor": 5
}
